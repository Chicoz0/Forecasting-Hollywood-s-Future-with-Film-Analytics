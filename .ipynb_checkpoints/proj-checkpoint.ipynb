{
 "cells": [
  {
   "cell_type": "markdown",
   "id": "acd5c1f4",
   "metadata": {},
   "source": [
    "# The Next Big Thing: Forecasting Hollywood's Future with Film Analytics\n",
    "Author: [Francisco de Paula Lemos](https://linkedin.com/in/chicos0)  \n",
    "Language: English"
   ]
  },
  {
   "cell_type": "markdown",
   "id": "9fe48a25",
   "metadata": {},
   "source": [
    "## About this project\n",
    "\n",
    "Dear PProductions Team,  \n",
    "\n",
    "This project will be led by us, a Data & Analytics team from Indicium, a data-driven consulting firm specialized in transforming business challenges into strategic, actionable insights.\n",
    "\n",
    "We'll guide this analysis using the CRISP-DM framework, a systematic process that ensures a comprehensive approach. It begins with understanding the business objectives, moves to data exploration and preparation, and culminates in modeling and the delivery of a clear and compelling narrative that empowers our clients to succeed.\n",
    "\n",
    "With a proven track record of helping over 50 companies make informed decisions, our team brings a unique blend of technical expertise and business acumen to maximize your next film's potential for success.\n",
    "\n"
   ]
  },
  {
   "cell_type": "markdown",
   "id": "889f3ca5",
   "metadata": {},
   "source": [
    "## 1 - Business Understanding\n",
    "\n",
    "### 1.1 Introduction\n",
    "\n",
    "Our proposal outlines a strategic project to leverage your cinematic database for a data-driven film development strategy. So, our primary goal is to provide actionable insights that will guide your next production decision beyound intuition, maximizing its potential for both **critical acclaim and financial success**. \n",
    "\n",
    "### 1.2 Business Objectives & Key Questions\n",
    "\n",
    "As requested, our analysis will focus on answering a set of critical business questions, while also addressing the technical aspects of our analysis. We believe this full-circle approach will not only deliver the key business recommendations you seek but also provide a transparent view into the data science process.\n",
    "\n",
    "#### Business Objectives:\n",
    "\n",
    "* *Audience Resonance (Q2a):* We'll dive into what film attributes drive high IMDb ratings and audience engagement, helping the creations of films that are not only profitable but also critically acclaimed.\n",
    "\n",
    "* **Maximizing ROI (Q2b):** We'll identify the core factors that correlate with high box-office gross, providing a clear data-driven understanding of what makes a film financially successful.\n",
    "\n",
    "* **Future-Proofing:** We'll explore the potential for predicting a film's success based on key variables, a crucial step for de-risking future investments.\n",
    "\n",
    "#### Analytical & Technical Approach:\n",
    "\n",
    "* **Exploratory Data Analysis (Q1):** We will provide a comprehensive EDA, highlighting the main characteristics and relationships between variables.\n",
    "\n",
    "* **Overview Column Insights (Q2c):** We will investigate whether the film's \"Overview\" (synopsis) contains linguistic patterns or keywords that can predict its genre and its potential for success.\n",
    "\n",
    "* **Predictive Modeling (Q3):** We will outline the methodology for predicting a film's potential IMDb score, including:\n",
    "    * The **type of problem** being solved (Regression vs. Classification).\n",
    "    * The **key variables** and **transformations** to be used.\n",
    "    * The most suitable **models** and their respective pros and cons.\n",
    "    * The **performance metrics** chosen to evaluate the model's accuracy.\n",
    "\n",
    "By addressing all these points, we aim to provide a clear and actionable recommendation on the type of film PProductions should develop next to ensure both financial and critical success."
   ]
  },
  {
   "cell_type": "markdown",
   "id": "0342f783",
   "metadata": {},
   "source": [
    "## 2 Data Understanding\n",
    "\n",
    "This section details our initial exploration of the dataset. We'll focus on dataset's structure, quality and key characteristics to empower us with more knoledge to hypothesis formation.\n",
    "\n",
    "* 2.1 **Initial Assessment**: We will begin by loading the raw data, importing libraries and conducting a review of its shape and columns.\n",
    "\n",
    "* 2.2 **Quality Check**: We will identify and handle any missing, duplicated, or incorrect data entries, as well as inappropriate data types, that could impact our analysis. Additionally, we'll perform a series of data transformations to make complex categorical data more usable. This structural modeling of the data is essential for both our exploratory analysis and the predictive modeling to follow.\n",
    "\n",
    "* 2.3 **Statistical Summary**: For numerical columns, we will generate descriptive statistics to understand their central tendency, spread, and overall distribution. For categorical columns, we'll approach with an analysis of their frequency distribution.\n",
    "\n",
    "* 2.4 **Hypothesis Formation**: Based on our initial findings, we will formulate preliminary hypotheses about the relationships between variables, which will be tested in our Exploratory Data Analysis.\n",
    "\n",
    "* 2.5 **Exploratory Data Analysis**: \n"
   ]
  },
  {
   "cell_type": "markdown",
   "id": "ddfdad11",
   "metadata": {},
   "source": [
    "### 2.1 Initial Assessment"
   ]
  },
  {
   "cell_type": "markdown",
   "id": "e6447fdf",
   "metadata": {},
   "source": [
    "#### Importing libraries"
   ]
  },
  {
   "cell_type": "code",
   "execution_count": 1,
   "id": "041d2894",
   "metadata": {},
   "outputs": [],
   "source": [
    "#\n",
    "import pandas as pd\n",
    "#\n"
   ]
  },
  {
   "cell_type": "markdown",
   "id": "5184060e",
   "metadata": {},
   "source": [
    "#### Loading dataset"
   ]
  },
  {
   "cell_type": "code",
   "execution_count": 2,
   "id": "b5c16709",
   "metadata": {},
   "outputs": [
    {
     "data": {
      "application/vnd.microsoft.datawrangler.viewer.v0+json": {
       "columns": [
        {
         "name": "index",
         "rawType": "int64",
         "type": "integer"
        },
        {
         "name": "Unnamed: 0",
         "rawType": "int64",
         "type": "integer"
        },
        {
         "name": "Series_Title",
         "rawType": "object",
         "type": "string"
        },
        {
         "name": "Released_Year",
         "rawType": "object",
         "type": "string"
        },
        {
         "name": "Certificate",
         "rawType": "object",
         "type": "string"
        },
        {
         "name": "Runtime",
         "rawType": "object",
         "type": "string"
        },
        {
         "name": "Genre",
         "rawType": "object",
         "type": "string"
        },
        {
         "name": "IMDB_Rating",
         "rawType": "float64",
         "type": "float"
        },
        {
         "name": "Overview",
         "rawType": "object",
         "type": "string"
        },
        {
         "name": "Meta_score",
         "rawType": "float64",
         "type": "float"
        },
        {
         "name": "Director",
         "rawType": "object",
         "type": "string"
        },
        {
         "name": "Star1",
         "rawType": "object",
         "type": "string"
        },
        {
         "name": "Star2",
         "rawType": "object",
         "type": "string"
        },
        {
         "name": "Star3",
         "rawType": "object",
         "type": "string"
        },
        {
         "name": "Star4",
         "rawType": "object",
         "type": "string"
        },
        {
         "name": "No_of_Votes",
         "rawType": "int64",
         "type": "integer"
        },
        {
         "name": "Gross",
         "rawType": "object",
         "type": "string"
        }
       ],
       "ref": "cb22532c-19a1-49d9-b6bf-4a9f160b862a",
       "rows": [
        [
         "0",
         "1",
         "The Godfather",
         "1972",
         "A",
         "175 min",
         "Crime, Drama",
         "9.2",
         "An organized crime dynasty's aging patriarch transfers control of his clandestine empire to his reluctant son.",
         "100.0",
         "Francis Ford Coppola",
         "Marlon Brando",
         "Al Pacino",
         "James Caan",
         "Diane Keaton",
         "1620367",
         "134,966,411"
        ],
        [
         "1",
         "2",
         "The Dark Knight",
         "2008",
         "UA",
         "152 min",
         "Action, Crime, Drama",
         "9.0",
         "When the menace known as the Joker wreaks havoc and chaos on the people of Gotham, Batman must accept one of the greatest psychological and physical tests of his ability to fight injustice.",
         "84.0",
         "Christopher Nolan",
         "Christian Bale",
         "Heath Ledger",
         "Aaron Eckhart",
         "Michael Caine",
         "2303232",
         "534,858,444"
        ],
        [
         "2",
         "3",
         "The Godfather: Part II",
         "1974",
         "A",
         "202 min",
         "Crime, Drama",
         "9.0",
         "The early life and career of Vito Corleone in 1920s New York City is portrayed, while his son, Michael, expands and tightens his grip on the family crime syndicate.",
         "90.0",
         "Francis Ford Coppola",
         "Al Pacino",
         "Robert De Niro",
         "Robert Duvall",
         "Diane Keaton",
         "1129952",
         "57,300,000"
        ],
        [
         "3",
         "4",
         "12 Angry Men",
         "1957",
         "U",
         "96 min",
         "Crime, Drama",
         "9.0",
         "A jury holdout attempts to prevent a miscarriage of justice by forcing his colleagues to reconsider the evidence.",
         "96.0",
         "Sidney Lumet",
         "Henry Fonda",
         "Lee J. Cobb",
         "Martin Balsam",
         "John Fiedler",
         "689845",
         "4,360,000"
        ],
        [
         "4",
         "5",
         "The Lord of the Rings: The Return of the King",
         "2003",
         "U",
         "201 min",
         "Action, Adventure, Drama",
         "8.9",
         "Gandalf and Aragorn lead the World of Men against Sauron's army to draw his gaze from Frodo and Sam as they approach Mount Doom with the One Ring.",
         "94.0",
         "Peter Jackson",
         "Elijah Wood",
         "Viggo Mortensen",
         "Ian McKellen",
         "Orlando Bloom",
         "1642758",
         "377,845,905"
        ]
       ],
       "shape": {
        "columns": 16,
        "rows": 5
       }
      },
      "text/html": [
       "<div>\n",
       "<style scoped>\n",
       "    .dataframe tbody tr th:only-of-type {\n",
       "        vertical-align: middle;\n",
       "    }\n",
       "\n",
       "    .dataframe tbody tr th {\n",
       "        vertical-align: top;\n",
       "    }\n",
       "\n",
       "    .dataframe thead th {\n",
       "        text-align: right;\n",
       "    }\n",
       "</style>\n",
       "<table border=\"1\" class=\"dataframe\">\n",
       "  <thead>\n",
       "    <tr style=\"text-align: right;\">\n",
       "      <th></th>\n",
       "      <th>Unnamed: 0</th>\n",
       "      <th>Series_Title</th>\n",
       "      <th>Released_Year</th>\n",
       "      <th>Certificate</th>\n",
       "      <th>Runtime</th>\n",
       "      <th>Genre</th>\n",
       "      <th>IMDB_Rating</th>\n",
       "      <th>Overview</th>\n",
       "      <th>Meta_score</th>\n",
       "      <th>Director</th>\n",
       "      <th>Star1</th>\n",
       "      <th>Star2</th>\n",
       "      <th>Star3</th>\n",
       "      <th>Star4</th>\n",
       "      <th>No_of_Votes</th>\n",
       "      <th>Gross</th>\n",
       "    </tr>\n",
       "  </thead>\n",
       "  <tbody>\n",
       "    <tr>\n",
       "      <th>0</th>\n",
       "      <td>1</td>\n",
       "      <td>The Godfather</td>\n",
       "      <td>1972</td>\n",
       "      <td>A</td>\n",
       "      <td>175 min</td>\n",
       "      <td>Crime, Drama</td>\n",
       "      <td>9.2</td>\n",
       "      <td>An organized crime dynasty's aging patriarch t...</td>\n",
       "      <td>100.0</td>\n",
       "      <td>Francis Ford Coppola</td>\n",
       "      <td>Marlon Brando</td>\n",
       "      <td>Al Pacino</td>\n",
       "      <td>James Caan</td>\n",
       "      <td>Diane Keaton</td>\n",
       "      <td>1620367</td>\n",
       "      <td>134,966,411</td>\n",
       "    </tr>\n",
       "    <tr>\n",
       "      <th>1</th>\n",
       "      <td>2</td>\n",
       "      <td>The Dark Knight</td>\n",
       "      <td>2008</td>\n",
       "      <td>UA</td>\n",
       "      <td>152 min</td>\n",
       "      <td>Action, Crime, Drama</td>\n",
       "      <td>9.0</td>\n",
       "      <td>When the menace known as the Joker wreaks havo...</td>\n",
       "      <td>84.0</td>\n",
       "      <td>Christopher Nolan</td>\n",
       "      <td>Christian Bale</td>\n",
       "      <td>Heath Ledger</td>\n",
       "      <td>Aaron Eckhart</td>\n",
       "      <td>Michael Caine</td>\n",
       "      <td>2303232</td>\n",
       "      <td>534,858,444</td>\n",
       "    </tr>\n",
       "    <tr>\n",
       "      <th>2</th>\n",
       "      <td>3</td>\n",
       "      <td>The Godfather: Part II</td>\n",
       "      <td>1974</td>\n",
       "      <td>A</td>\n",
       "      <td>202 min</td>\n",
       "      <td>Crime, Drama</td>\n",
       "      <td>9.0</td>\n",
       "      <td>The early life and career of Vito Corleone in ...</td>\n",
       "      <td>90.0</td>\n",
       "      <td>Francis Ford Coppola</td>\n",
       "      <td>Al Pacino</td>\n",
       "      <td>Robert De Niro</td>\n",
       "      <td>Robert Duvall</td>\n",
       "      <td>Diane Keaton</td>\n",
       "      <td>1129952</td>\n",
       "      <td>57,300,000</td>\n",
       "    </tr>\n",
       "    <tr>\n",
       "      <th>3</th>\n",
       "      <td>4</td>\n",
       "      <td>12 Angry Men</td>\n",
       "      <td>1957</td>\n",
       "      <td>U</td>\n",
       "      <td>96 min</td>\n",
       "      <td>Crime, Drama</td>\n",
       "      <td>9.0</td>\n",
       "      <td>A jury holdout attempts to prevent a miscarria...</td>\n",
       "      <td>96.0</td>\n",
       "      <td>Sidney Lumet</td>\n",
       "      <td>Henry Fonda</td>\n",
       "      <td>Lee J. Cobb</td>\n",
       "      <td>Martin Balsam</td>\n",
       "      <td>John Fiedler</td>\n",
       "      <td>689845</td>\n",
       "      <td>4,360,000</td>\n",
       "    </tr>\n",
       "    <tr>\n",
       "      <th>4</th>\n",
       "      <td>5</td>\n",
       "      <td>The Lord of the Rings: The Return of the King</td>\n",
       "      <td>2003</td>\n",
       "      <td>U</td>\n",
       "      <td>201 min</td>\n",
       "      <td>Action, Adventure, Drama</td>\n",
       "      <td>8.9</td>\n",
       "      <td>Gandalf and Aragorn lead the World of Men agai...</td>\n",
       "      <td>94.0</td>\n",
       "      <td>Peter Jackson</td>\n",
       "      <td>Elijah Wood</td>\n",
       "      <td>Viggo Mortensen</td>\n",
       "      <td>Ian McKellen</td>\n",
       "      <td>Orlando Bloom</td>\n",
       "      <td>1642758</td>\n",
       "      <td>377,845,905</td>\n",
       "    </tr>\n",
       "  </tbody>\n",
       "</table>\n",
       "</div>"
      ],
      "text/plain": [
       "   Unnamed: 0                                   Series_Title Released_Year  \\\n",
       "0           1                                  The Godfather          1972   \n",
       "1           2                                The Dark Knight          2008   \n",
       "2           3                         The Godfather: Part II          1974   \n",
       "3           4                                   12 Angry Men          1957   \n",
       "4           5  The Lord of the Rings: The Return of the King          2003   \n",
       "\n",
       "  Certificate  Runtime                     Genre  IMDB_Rating  \\\n",
       "0           A  175 min              Crime, Drama          9.2   \n",
       "1          UA  152 min      Action, Crime, Drama          9.0   \n",
       "2           A  202 min              Crime, Drama          9.0   \n",
       "3           U   96 min              Crime, Drama          9.0   \n",
       "4           U  201 min  Action, Adventure, Drama          8.9   \n",
       "\n",
       "                                            Overview  Meta_score  \\\n",
       "0  An organized crime dynasty's aging patriarch t...       100.0   \n",
       "1  When the menace known as the Joker wreaks havo...        84.0   \n",
       "2  The early life and career of Vito Corleone in ...        90.0   \n",
       "3  A jury holdout attempts to prevent a miscarria...        96.0   \n",
       "4  Gandalf and Aragorn lead the World of Men agai...        94.0   \n",
       "\n",
       "               Director           Star1            Star2          Star3  \\\n",
       "0  Francis Ford Coppola   Marlon Brando        Al Pacino     James Caan   \n",
       "1     Christopher Nolan  Christian Bale     Heath Ledger  Aaron Eckhart   \n",
       "2  Francis Ford Coppola       Al Pacino   Robert De Niro  Robert Duvall   \n",
       "3          Sidney Lumet     Henry Fonda      Lee J. Cobb  Martin Balsam   \n",
       "4         Peter Jackson     Elijah Wood  Viggo Mortensen   Ian McKellen   \n",
       "\n",
       "           Star4  No_of_Votes        Gross  \n",
       "0   Diane Keaton      1620367  134,966,411  \n",
       "1  Michael Caine      2303232  534,858,444  \n",
       "2   Diane Keaton      1129952   57,300,000  \n",
       "3   John Fiedler       689845    4,360,000  \n",
       "4  Orlando Bloom      1642758  377,845,905  "
      ]
     },
     "execution_count": 2,
     "metadata": {},
     "output_type": "execute_result"
    }
   ],
   "source": [
    "films = pd.read_csv(\"desafio_indicium_imdb.csv\")\n",
    "films.head()"
   ]
  },
  {
   "cell_type": "markdown",
   "id": "2767f305",
   "metadata": {},
   "source": [
    "#### Dataset's size"
   ]
  },
  {
   "cell_type": "code",
   "execution_count": 3,
   "id": "b83392bc",
   "metadata": {},
   "outputs": [
    {
     "name": "stdout",
     "output_type": "stream",
     "text": [
      "Films data-set has 999 rows and 16 columns.\n"
     ]
    }
   ],
   "source": [
    "print(f'Films data-set has {films.shape[0]} rows and {films.shape[1]} columns.')"
   ]
  },
  {
   "cell_type": "markdown",
   "id": "a480108e",
   "metadata": {},
   "source": [
    "#### Data dictionary\n",
    "\n",
    "| Variable | Description |\n",
    "| :--- | :--- |\n",
    "| **Series_Title** | Film title |\n",
    "| **Released_Year** | Release year |\n",
    "| **Certificate** | Age rating |\n",
    "| **Runtime** | Running time in minutes |\n",
    "| **Genre** | Genre |\n",
    "| **IMDB_Rating** | IMDB rating |\n",
    "| **Overview** | Film synopsis |\n",
    "| **Meta_score** | Weighted average of all critics' scores |\n",
    "| **Director** | Director |\n",
    "| **Star1** | Actor/actress #1 |\n",
    "| **Star2** | Actor/actress #2 |\n",
    "| **Star3** | Actor/actress #3 |\n",
    "| **Star4** | Actor/actress #4 |\n",
    "| **No_of_Votes** | Number of votes |\n",
    "| **Gross** | Gross revenue |"
   ]
  },
  {
   "cell_type": "markdown",
   "id": "93b84f4d",
   "metadata": {},
   "source": [
    "### 2.2 Quality Check"
   ]
  },
  {
   "cell_type": "markdown",
   "id": "ce84390c",
   "metadata": {},
   "source": [
    "#### Missing values"
   ]
  },
  {
   "cell_type": "code",
   "execution_count": 4,
   "id": "0661c01d",
   "metadata": {},
   "outputs": [
    {
     "data": {
      "application/vnd.microsoft.datawrangler.viewer.v0+json": {
       "columns": [
        {
         "name": "index",
         "rawType": "object",
         "type": "string"
        },
        {
         "name": "0",
         "rawType": "int64",
         "type": "integer"
        }
       ],
       "ref": "d1d119f2-6aed-4b16-b900-4de8183fab29",
       "rows": [
        [
         "Unnamed: 0",
         "0"
        ],
        [
         "Series_Title",
         "0"
        ],
        [
         "Released_Year",
         "0"
        ],
        [
         "Certificate",
         "101"
        ],
        [
         "Runtime",
         "0"
        ],
        [
         "Genre",
         "0"
        ],
        [
         "IMDB_Rating",
         "0"
        ],
        [
         "Overview",
         "0"
        ],
        [
         "Meta_score",
         "157"
        ],
        [
         "Director",
         "0"
        ],
        [
         "Star1",
         "0"
        ],
        [
         "Star2",
         "0"
        ],
        [
         "Star3",
         "0"
        ],
        [
         "Star4",
         "0"
        ],
        [
         "No_of_Votes",
         "0"
        ],
        [
         "Gross",
         "169"
        ]
       ],
       "shape": {
        "columns": 1,
        "rows": 16
       }
      },
      "text/plain": [
       "Unnamed: 0         0\n",
       "Series_Title       0\n",
       "Released_Year      0\n",
       "Certificate      101\n",
       "Runtime            0\n",
       "Genre              0\n",
       "IMDB_Rating        0\n",
       "Overview           0\n",
       "Meta_score       157\n",
       "Director           0\n",
       "Star1              0\n",
       "Star2              0\n",
       "Star3              0\n",
       "Star4              0\n",
       "No_of_Votes        0\n",
       "Gross            169\n",
       "dtype: int64"
      ]
     },
     "execution_count": 4,
     "metadata": {},
     "output_type": "execute_result"
    }
   ],
   "source": [
    "films.isnull().sum()"
   ]
  },
  {
   "cell_type": "markdown",
   "id": "c5803eea",
   "metadata": {},
   "source": [
    "Our initial analysis has highlighted that `Certificate`, `Meta_score`, and `Gross` have missing values. \n",
    "\n",
    "We will convert `Meta_score` and `Gross` to a float data type in the next section, which allows us to natively represent missing data as `NaN` and defer handling these values for now. \n",
    "\n",
    "However, since `Certificate` is a categorical variable, the absence of a rating is valuable information in itself. That's why we will create a new category, 'Unrated', to fill the missing values, which will allow us to analyze whether the lack of an age rating impacts other variables.\""
   ]
  },
  {
   "cell_type": "code",
   "execution_count": 5,
   "id": "b02e42a4",
   "metadata": {},
   "outputs": [],
   "source": [
    "films['Certificate'] = films['Certificate'].fillna('Unrated')"
   ]
  },
  {
   "cell_type": "markdown",
   "id": "1ee9ba3c",
   "metadata": {},
   "source": [
    "#### Data type transformation"
   ]
  },
  {
   "cell_type": "code",
   "execution_count": 6,
   "id": "94b4e777",
   "metadata": {},
   "outputs": [
    {
     "data": {
      "application/vnd.microsoft.datawrangler.viewer.v0+json": {
       "columns": [
        {
         "name": "index",
         "rawType": "object",
         "type": "string"
        },
        {
         "name": "0",
         "rawType": "object",
         "type": "unknown"
        }
       ],
       "ref": "452e45ae-d02c-41a1-b55d-11ec51a94b23",
       "rows": [
        [
         "Unnamed: 0",
         "int64"
        ],
        [
         "Series_Title",
         "object"
        ],
        [
         "Released_Year",
         "object"
        ],
        [
         "Certificate",
         "object"
        ],
        [
         "Runtime",
         "object"
        ],
        [
         "Genre",
         "object"
        ],
        [
         "IMDB_Rating",
         "float64"
        ],
        [
         "Overview",
         "object"
        ],
        [
         "Meta_score",
         "float64"
        ],
        [
         "Director",
         "object"
        ],
        [
         "Star1",
         "object"
        ],
        [
         "Star2",
         "object"
        ],
        [
         "Star3",
         "object"
        ],
        [
         "Star4",
         "object"
        ],
        [
         "No_of_Votes",
         "int64"
        ],
        [
         "Gross",
         "object"
        ]
       ],
       "shape": {
        "columns": 1,
        "rows": 16
       }
      },
      "text/plain": [
       "Unnamed: 0         int64\n",
       "Series_Title      object\n",
       "Released_Year     object\n",
       "Certificate       object\n",
       "Runtime           object\n",
       "Genre             object\n",
       "IMDB_Rating      float64\n",
       "Overview          object\n",
       "Meta_score       float64\n",
       "Director          object\n",
       "Star1             object\n",
       "Star2             object\n",
       "Star3             object\n",
       "Star4             object\n",
       "No_of_Votes        int64\n",
       "Gross             object\n",
       "dtype: object"
      ]
     },
     "execution_count": 6,
     "metadata": {},
     "output_type": "execute_result"
    }
   ],
   "source": [
    "films.dtypes"
   ]
  },
  {
   "cell_type": "markdown",
   "id": "b22ddc0a",
   "metadata": {},
   "source": [
    "Based on the analysis above we've identified several columns that require data type adjustments to ensure the integrity and usability of our dataset. Here’s how we’ll approach these transformations:\n",
    "\n",
    "* **`Released_Year`:** This column contains year values and is intended to be a numeric type. Since our initial check indicated no missing values, we will convert the column to an **integer** type to support more efficient data storage and numerical analysis.\n",
    "\n",
    "* **`Runtime`:** To prepare this column for analysis, we'll first remove the string suffix ('min'). As our initial assessment showed no missing values, we can then safely convert the column to an **integer** type.\n",
    "\n",
    "* **`Gross`:** This column, representing a film's revenue, contains both commas and missing values (`NaN`). We'll first remove the commas to prepare the data for conversion. We'll then convert the column to a **float** type, which can natively handle `NaN` values, allowing us to defer imputation until the modeling phase."
   ]
  },
  {
   "cell_type": "code",
   "execution_count": 7,
   "id": "3d8cc46b",
   "metadata": {},
   "outputs": [
    {
     "name": "stdout",
     "output_type": "stream",
     "text": [
      "Conversion error: 'Released_Year' contains non-numeric values.\n"
     ]
    }
   ],
   "source": [
    "# Trying to convert 'Released_Year' to integer\n",
    "try:\n",
    "    films['Released_Year'] = films['Released_Year'].astype('int64')\n",
    "except ValueError:\n",
    "    print(\"Conversion error: 'Released_Year' contains non-numeric values.\")"
   ]
  },
  {
   "cell_type": "markdown",
   "id": "925b8fc2",
   "metadata": {},
   "source": [
    "This initial conversion attempt revealed an underlying data quality issue that needs to be addressed. Before we can successfully convert the column to an integer, we must first locate and correct the incorrect value."
   ]
  },
  {
   "cell_type": "code",
   "execution_count": 8,
   "id": "b50f9267",
   "metadata": {},
   "outputs": [
    {
     "name": "stdout",
     "output_type": "stream",
     "text": [
      "The movies with null year are: 965    Apollo 13\n",
      "Name: Series_Title, dtype: object\n"
     ]
    }
   ],
   "source": [
    "# Converting 'Released_Year' to numeric -> setting 'coerce' will turn non-convertible values into NaN and the data type will be *float*\n",
    "films['Released_Year'] = pd.to_numeric(films['Released_Year'], 'coerce')\n",
    "# Finding out which films have no release year\n",
    "films_with_null_year = films[films['Released_Year'].isnull()]\n",
    "print(f'The movies with null year are: {films_with_null_year['Series_Title']}')"
   ]
  },
  {
   "cell_type": "code",
   "execution_count": 9,
   "id": "7563e2ba",
   "metadata": {},
   "outputs": [
    {
     "name": "stdout",
     "output_type": "stream",
     "text": [
      "965    1995.0\n",
      "Name: Released_Year, dtype: float64\n"
     ]
    }
   ],
   "source": [
    "# After searching in the internet about 'Apollo 13' release year, '1995', I shall manually correct the data\n",
    "films.loc[films['Series_Title'] == 'Apollo 13', 'Released_Year'] = 1995\n",
    "# Checking if it was correctly replaced by '1995'\n",
    "print(films.loc[films['Series_Title'] == 'Apollo 13', 'Released_Year'])"
   ]
  },
  {
   "cell_type": "code",
   "execution_count": 10,
   "id": "64bb2800",
   "metadata": {},
   "outputs": [],
   "source": [
    "# Converting 'Released_Year' to integer\n",
    "films['Released_Year'] = films['Released_Year'].astype('int64')"
   ]
  },
  {
   "cell_type": "code",
   "execution_count": 11,
   "id": "21af8ef7",
   "metadata": {},
   "outputs": [],
   "source": [
    "# Converting Runtime to integer\n",
    "films['Runtime'] = films['Runtime'].str.replace(' min', '').astype('int64')"
   ]
  },
  {
   "cell_type": "code",
   "execution_count": 12,
   "id": "7e97014a",
   "metadata": {},
   "outputs": [],
   "source": [
    "# Converting Gross to float\n",
    "films['Gross'] = films['Gross'].str.replace(',', '').astype('float64')"
   ]
  },
  {
   "cell_type": "markdown",
   "id": "ada9f396",
   "metadata": {},
   "source": [
    "#### Duplicated entries"
   ]
  },
  {
   "cell_type": "code",
   "execution_count": 13,
   "id": "df3de1bb",
   "metadata": {},
   "outputs": [
    {
     "data": {
      "text/plain": [
       "np.int64(1)"
      ]
     },
     "execution_count": 13,
     "metadata": {},
     "output_type": "execute_result"
    }
   ],
   "source": [
    "# Finding if there are any duplicated films\n",
    "films[\"Series_Title\"].duplicated().sum()"
   ]
  },
  {
   "cell_type": "code",
   "execution_count": 14,
   "id": "2dc24299",
   "metadata": {},
   "outputs": [
    {
     "data": {
      "text/plain": [
       "array(['Drishyam'], dtype=object)"
      ]
     },
     "execution_count": 14,
     "metadata": {},
     "output_type": "execute_result"
    }
   ],
   "source": [
    "# Descovering which films are duplicated\n",
    "films[films.duplicated(['Series_Title'], False)]['Series_Title'].unique()"
   ]
  },
  {
   "cell_type": "code",
   "execution_count": 15,
   "id": "d51b57d4",
   "metadata": {},
   "outputs": [
    {
     "name": "stdout",
     "output_type": "stream",
     "text": [
      "86     A man goes to extreme lengths to save his fami...\n",
      "135    Desperate measures are taken by a man who trie...\n",
      "Name: Overview, dtype: object\n"
     ]
    }
   ],
   "source": [
    "# Finding out if both entries are identical\n",
    "print(films.loc[films['Series_Title'] == 'Drishyam', 'Overview'])"
   ]
  },
  {
   "cell_type": "markdown",
   "id": "6783020c",
   "metadata": {},
   "source": [
    "This analysis was particularly interesting as we discovered what appeared to be a duplicate film, but were in fact different films sharing the same title."
   ]
  },
  {
   "cell_type": "markdown",
   "id": "2b9c15b7",
   "metadata": {},
   "source": [
    "### Data transformations"
   ]
  },
  {
   "cell_type": "markdown",
   "id": "ee0e12f5",
   "metadata": {},
   "source": [
    "In order to make our complex categorical data more usable for analysis and further modeling, we will perform the following transformations:\n",
    "\n",
    "* The `Genre` column, which currently holds multiple values per entry, will be split into individual columns.\n",
    "* To unify the diverse rating systems found in the `Certificate` column, we will also create a `Standardized_Rating` column with three possible entrys: 'All Ages', 'Parental Guidance' and 'Adults Only'\n",
    "\n",
    "Once these transformations are complete, we will drop the  `Genre`, `Certificate`, and `Unnamed: 0` columns, as they will serve no analytical purpose in our study."
   ]
  },
  {
   "cell_type": "code",
   "execution_count": 16,
   "id": "1fc3e3ac",
   "metadata": {},
   "outputs": [
    {
     "name": "stdout",
     "output_type": "stream",
     "text": [
      "Number of new 'Genre' coluns created: 3\n"
     ]
    }
   ],
   "source": [
    "genres = films['Genre'].str.split(', ', expand=True)\n",
    "\n",
    "# Passo 2: Renomear as novas colunas para 'Genre1', 'Genre2', etc.\n",
    "genres.columns = [f'Genre{i+1}' for i in range(len(genres.columns))]\n",
    "\n",
    "# Passo 3: Adicionar essas novas colunas ao DataFrame original\n",
    "films = pd.concat([films, genres], axis=1)\n",
    "\n",
    "# Passo 4: Identificar o número de colunas criadas\n",
    "print(f\"Number of new 'Genre' coluns created: {len(genres.columns)}\")"
   ]
  },
  {
   "cell_type": "code",
   "execution_count": 17,
   "id": "0c9cc340",
   "metadata": {},
   "outputs": [
    {
     "name": "stdout",
     "output_type": "stream",
     "text": [
      "['A' 'UA' 'U' 'PG-13' 'R' 'Unrated' 'PG' 'G' 'Passed' 'TV-14' '16' 'TV-MA'\n",
      " 'GP' 'Approved' 'TV-PG' 'U/A']\n"
     ]
    }
   ],
   "source": [
    "# Analyzing unique values in 'Certificate' column to further standardize it\n",
    "print(films['Certificate'].unique())\n"
   ]
  },
  {
   "cell_type": "code",
   "execution_count": 18,
   "id": "0572ebd3",
   "metadata": {},
   "outputs": [
    {
     "name": "stdout",
     "output_type": "stream",
     "text": [
      "Standardized_Rating\n",
      "All Ages             396\n",
      "Adults Only          343\n",
      "Parental Guidance    260\n",
      "Name: count, dtype: int64\n",
      "Total of entries: 999\n"
     ]
    }
   ],
   "source": [
    "# Defining the mapping function to convert old certificate values to new categories\n",
    "def standardize_rating(certificate):\n",
    "    if certificate in ['U', 'G', 'Passed', 'Approved', 'TV-PG', 'Unrated']:\n",
    "        return 'All Ages'\n",
    "    elif certificate in ['PG', 'PG-13', 'UA', 'TV-14', '16', 'GP', 'U/A']:\n",
    "        return 'Parental Guidance' \n",
    "    elif certificate in ['A', 'R', 'TV-MA']:\n",
    "        return 'Adults Only'\n",
    "    else:\n",
    "        return 'Not classified'\n",
    "\n",
    "# Applying the function to create a 'Standardized_Rating' column\n",
    "films['Standardized_Rating'] = films['Certificate'].apply(standardize_rating)\n",
    "\n",
    "# Checking the new category distribution to confirm if the mapping worked\n",
    "print(films['Standardized_Rating'].value_counts())\n",
    "print(f'Total of entries: {films['Standardized_Rating'].value_counts().sum()}')"
   ]
  },
  {
   "cell_type": "code",
   "execution_count": 19,
   "id": "03a61bc5",
   "metadata": {},
   "outputs": [],
   "source": [
    "# Droping the now unnecessary columns\n",
    "films = films.drop(columns=['Genre', 'Certificate', 'Unnamed: 0'])"
   ]
  },
  {
   "cell_type": "code",
   "execution_count": 20,
   "id": "b44b7a31",
   "metadata": {},
   "outputs": [
    {
     "data": {
      "application/vnd.microsoft.datawrangler.viewer.v0+json": {
       "columns": [
        {
         "name": "index",
         "rawType": "int64",
         "type": "integer"
        },
        {
         "name": "Series_Title",
         "rawType": "object",
         "type": "string"
        },
        {
         "name": "Released_Year",
         "rawType": "int64",
         "type": "integer"
        },
        {
         "name": "Runtime",
         "rawType": "int64",
         "type": "integer"
        },
        {
         "name": "IMDB_Rating",
         "rawType": "float64",
         "type": "float"
        },
        {
         "name": "Overview",
         "rawType": "object",
         "type": "string"
        },
        {
         "name": "Meta_score",
         "rawType": "float64",
         "type": "float"
        },
        {
         "name": "Director",
         "rawType": "object",
         "type": "string"
        },
        {
         "name": "Star1",
         "rawType": "object",
         "type": "string"
        },
        {
         "name": "Star2",
         "rawType": "object",
         "type": "string"
        },
        {
         "name": "Star3",
         "rawType": "object",
         "type": "string"
        },
        {
         "name": "Star4",
         "rawType": "object",
         "type": "string"
        },
        {
         "name": "No_of_Votes",
         "rawType": "int64",
         "type": "integer"
        },
        {
         "name": "Gross",
         "rawType": "float64",
         "type": "float"
        },
        {
         "name": "Genre1",
         "rawType": "object",
         "type": "string"
        },
        {
         "name": "Genre2",
         "rawType": "object",
         "type": "string"
        },
        {
         "name": "Genre3",
         "rawType": "object",
         "type": "unknown"
        },
        {
         "name": "Standardized_Rating",
         "rawType": "object",
         "type": "string"
        }
       ],
       "ref": "9482eedd-3c3d-40ca-8c46-81142a704a2b",
       "rows": [
        [
         "0",
         "The Godfather",
         "1972",
         "175",
         "9.2",
         "An organized crime dynasty's aging patriarch transfers control of his clandestine empire to his reluctant son.",
         "100.0",
         "Francis Ford Coppola",
         "Marlon Brando",
         "Al Pacino",
         "James Caan",
         "Diane Keaton",
         "1620367",
         "134966411.0",
         "Crime",
         "Drama",
         null,
         "Adults Only"
        ],
        [
         "1",
         "The Dark Knight",
         "2008",
         "152",
         "9.0",
         "When the menace known as the Joker wreaks havoc and chaos on the people of Gotham, Batman must accept one of the greatest psychological and physical tests of his ability to fight injustice.",
         "84.0",
         "Christopher Nolan",
         "Christian Bale",
         "Heath Ledger",
         "Aaron Eckhart",
         "Michael Caine",
         "2303232",
         "534858444.0",
         "Action",
         "Crime",
         "Drama",
         "Parental Guidance"
        ],
        [
         "2",
         "The Godfather: Part II",
         "1974",
         "202",
         "9.0",
         "The early life and career of Vito Corleone in 1920s New York City is portrayed, while his son, Michael, expands and tightens his grip on the family crime syndicate.",
         "90.0",
         "Francis Ford Coppola",
         "Al Pacino",
         "Robert De Niro",
         "Robert Duvall",
         "Diane Keaton",
         "1129952",
         "57300000.0",
         "Crime",
         "Drama",
         null,
         "Adults Only"
        ],
        [
         "3",
         "12 Angry Men",
         "1957",
         "96",
         "9.0",
         "A jury holdout attempts to prevent a miscarriage of justice by forcing his colleagues to reconsider the evidence.",
         "96.0",
         "Sidney Lumet",
         "Henry Fonda",
         "Lee J. Cobb",
         "Martin Balsam",
         "John Fiedler",
         "689845",
         "4360000.0",
         "Crime",
         "Drama",
         null,
         "All Ages"
        ],
        [
         "4",
         "The Lord of the Rings: The Return of the King",
         "2003",
         "201",
         "8.9",
         "Gandalf and Aragorn lead the World of Men against Sauron's army to draw his gaze from Frodo and Sam as they approach Mount Doom with the One Ring.",
         "94.0",
         "Peter Jackson",
         "Elijah Wood",
         "Viggo Mortensen",
         "Ian McKellen",
         "Orlando Bloom",
         "1642758",
         "377845905.0",
         "Action",
         "Adventure",
         "Drama",
         "All Ages"
        ]
       ],
       "shape": {
        "columns": 17,
        "rows": 5
       }
      },
      "text/html": [
       "<div>\n",
       "<style scoped>\n",
       "    .dataframe tbody tr th:only-of-type {\n",
       "        vertical-align: middle;\n",
       "    }\n",
       "\n",
       "    .dataframe tbody tr th {\n",
       "        vertical-align: top;\n",
       "    }\n",
       "\n",
       "    .dataframe thead th {\n",
       "        text-align: right;\n",
       "    }\n",
       "</style>\n",
       "<table border=\"1\" class=\"dataframe\">\n",
       "  <thead>\n",
       "    <tr style=\"text-align: right;\">\n",
       "      <th></th>\n",
       "      <th>Series_Title</th>\n",
       "      <th>Released_Year</th>\n",
       "      <th>Runtime</th>\n",
       "      <th>IMDB_Rating</th>\n",
       "      <th>Overview</th>\n",
       "      <th>Meta_score</th>\n",
       "      <th>Director</th>\n",
       "      <th>Star1</th>\n",
       "      <th>Star2</th>\n",
       "      <th>Star3</th>\n",
       "      <th>Star4</th>\n",
       "      <th>No_of_Votes</th>\n",
       "      <th>Gross</th>\n",
       "      <th>Genre1</th>\n",
       "      <th>Genre2</th>\n",
       "      <th>Genre3</th>\n",
       "      <th>Standardized_Rating</th>\n",
       "    </tr>\n",
       "  </thead>\n",
       "  <tbody>\n",
       "    <tr>\n",
       "      <th>0</th>\n",
       "      <td>The Godfather</td>\n",
       "      <td>1972</td>\n",
       "      <td>175</td>\n",
       "      <td>9.2</td>\n",
       "      <td>An organized crime dynasty's aging patriarch t...</td>\n",
       "      <td>100.0</td>\n",
       "      <td>Francis Ford Coppola</td>\n",
       "      <td>Marlon Brando</td>\n",
       "      <td>Al Pacino</td>\n",
       "      <td>James Caan</td>\n",
       "      <td>Diane Keaton</td>\n",
       "      <td>1620367</td>\n",
       "      <td>134966411.0</td>\n",
       "      <td>Crime</td>\n",
       "      <td>Drama</td>\n",
       "      <td>None</td>\n",
       "      <td>Adults Only</td>\n",
       "    </tr>\n",
       "    <tr>\n",
       "      <th>1</th>\n",
       "      <td>The Dark Knight</td>\n",
       "      <td>2008</td>\n",
       "      <td>152</td>\n",
       "      <td>9.0</td>\n",
       "      <td>When the menace known as the Joker wreaks havo...</td>\n",
       "      <td>84.0</td>\n",
       "      <td>Christopher Nolan</td>\n",
       "      <td>Christian Bale</td>\n",
       "      <td>Heath Ledger</td>\n",
       "      <td>Aaron Eckhart</td>\n",
       "      <td>Michael Caine</td>\n",
       "      <td>2303232</td>\n",
       "      <td>534858444.0</td>\n",
       "      <td>Action</td>\n",
       "      <td>Crime</td>\n",
       "      <td>Drama</td>\n",
       "      <td>Parental Guidance</td>\n",
       "    </tr>\n",
       "    <tr>\n",
       "      <th>2</th>\n",
       "      <td>The Godfather: Part II</td>\n",
       "      <td>1974</td>\n",
       "      <td>202</td>\n",
       "      <td>9.0</td>\n",
       "      <td>The early life and career of Vito Corleone in ...</td>\n",
       "      <td>90.0</td>\n",
       "      <td>Francis Ford Coppola</td>\n",
       "      <td>Al Pacino</td>\n",
       "      <td>Robert De Niro</td>\n",
       "      <td>Robert Duvall</td>\n",
       "      <td>Diane Keaton</td>\n",
       "      <td>1129952</td>\n",
       "      <td>57300000.0</td>\n",
       "      <td>Crime</td>\n",
       "      <td>Drama</td>\n",
       "      <td>None</td>\n",
       "      <td>Adults Only</td>\n",
       "    </tr>\n",
       "    <tr>\n",
       "      <th>3</th>\n",
       "      <td>12 Angry Men</td>\n",
       "      <td>1957</td>\n",
       "      <td>96</td>\n",
       "      <td>9.0</td>\n",
       "      <td>A jury holdout attempts to prevent a miscarria...</td>\n",
       "      <td>96.0</td>\n",
       "      <td>Sidney Lumet</td>\n",
       "      <td>Henry Fonda</td>\n",
       "      <td>Lee J. Cobb</td>\n",
       "      <td>Martin Balsam</td>\n",
       "      <td>John Fiedler</td>\n",
       "      <td>689845</td>\n",
       "      <td>4360000.0</td>\n",
       "      <td>Crime</td>\n",
       "      <td>Drama</td>\n",
       "      <td>None</td>\n",
       "      <td>All Ages</td>\n",
       "    </tr>\n",
       "    <tr>\n",
       "      <th>4</th>\n",
       "      <td>The Lord of the Rings: The Return of the King</td>\n",
       "      <td>2003</td>\n",
       "      <td>201</td>\n",
       "      <td>8.9</td>\n",
       "      <td>Gandalf and Aragorn lead the World of Men agai...</td>\n",
       "      <td>94.0</td>\n",
       "      <td>Peter Jackson</td>\n",
       "      <td>Elijah Wood</td>\n",
       "      <td>Viggo Mortensen</td>\n",
       "      <td>Ian McKellen</td>\n",
       "      <td>Orlando Bloom</td>\n",
       "      <td>1642758</td>\n",
       "      <td>377845905.0</td>\n",
       "      <td>Action</td>\n",
       "      <td>Adventure</td>\n",
       "      <td>Drama</td>\n",
       "      <td>All Ages</td>\n",
       "    </tr>\n",
       "  </tbody>\n",
       "</table>\n",
       "</div>"
      ],
      "text/plain": [
       "                                    Series_Title  Released_Year  Runtime  \\\n",
       "0                                  The Godfather           1972      175   \n",
       "1                                The Dark Knight           2008      152   \n",
       "2                         The Godfather: Part II           1974      202   \n",
       "3                                   12 Angry Men           1957       96   \n",
       "4  The Lord of the Rings: The Return of the King           2003      201   \n",
       "\n",
       "   IMDB_Rating                                           Overview  Meta_score  \\\n",
       "0          9.2  An organized crime dynasty's aging patriarch t...       100.0   \n",
       "1          9.0  When the menace known as the Joker wreaks havo...        84.0   \n",
       "2          9.0  The early life and career of Vito Corleone in ...        90.0   \n",
       "3          9.0  A jury holdout attempts to prevent a miscarria...        96.0   \n",
       "4          8.9  Gandalf and Aragorn lead the World of Men agai...        94.0   \n",
       "\n",
       "               Director           Star1            Star2          Star3  \\\n",
       "0  Francis Ford Coppola   Marlon Brando        Al Pacino     James Caan   \n",
       "1     Christopher Nolan  Christian Bale     Heath Ledger  Aaron Eckhart   \n",
       "2  Francis Ford Coppola       Al Pacino   Robert De Niro  Robert Duvall   \n",
       "3          Sidney Lumet     Henry Fonda      Lee J. Cobb  Martin Balsam   \n",
       "4         Peter Jackson     Elijah Wood  Viggo Mortensen   Ian McKellen   \n",
       "\n",
       "           Star4  No_of_Votes        Gross  Genre1     Genre2 Genre3  \\\n",
       "0   Diane Keaton      1620367  134966411.0   Crime      Drama   None   \n",
       "1  Michael Caine      2303232  534858444.0  Action      Crime  Drama   \n",
       "2   Diane Keaton      1129952   57300000.0   Crime      Drama   None   \n",
       "3   John Fiedler       689845    4360000.0   Crime      Drama   None   \n",
       "4  Orlando Bloom      1642758  377845905.0  Action  Adventure  Drama   \n",
       "\n",
       "  Standardized_Rating  \n",
       "0         Adults Only  \n",
       "1   Parental Guidance  \n",
       "2         Adults Only  \n",
       "3            All Ages  \n",
       "4            All Ages  "
      ]
     },
     "execution_count": 20,
     "metadata": {},
     "output_type": "execute_result"
    }
   ],
   "source": [
    "films.head()"
   ]
  },
  {
   "cell_type": "markdown",
   "id": "8ded8cb8",
   "metadata": {},
   "source": [
    "### 2.3 Statistical Summary"
   ]
  },
  {
   "cell_type": "markdown",
   "id": "bcf61c6f",
   "metadata": {},
   "source": [
    "This section provides an overview of the dataset's key characteristics through descriptive statistics. \n",
    "\n",
    "By using methods like `describe()` and `value_counts()` from the pandas library, we can easily compute metrics that summarize the data's central tendencies, spread, and distribution.\n",
    "\n",
    "* For our **numerical variables**, the analysis will give us a clear picture of the average `IMDB_Rating`, `Meta_score`, and the typical `Runtime`. We will also see the overall range of `Released_Year`, the spread of `No_of_Votes`, and the overall range of `Gross` revenue. These statistics are essential for understanding the distribution of our data, identifying potential outliers, and spotting patterns that will guide our analysis.\n",
    "\n",
    "* For our **categorical variables**, we will focus on analyzing the frequency distribution. This will allow us to identify the most common `Director`, the prevalent `Standardized_Rating`, and the most frequent `Genre` categories. We also will analyze the frequency of our main cast members (`Star1`, `Star2`, etc.), providing valuable context on the composition of our dataset and informing our hypotheses about what attributes may drive a film's success. As for the `Overview` column, a text variable, it will be analyzed separately using specific linguistic techniques."
   ]
  },
  {
   "cell_type": "code",
   "execution_count": 21,
   "id": "8c01963d",
   "metadata": {},
   "outputs": [],
   "source": [
    "#### Numerical Variables Summary"
   ]
  },
  {
   "cell_type": "markdown",
   "id": "3ec057dc",
   "metadata": {},
   "source": [
    "Here is a concise overview of the metrics we'll be using.\n",
    "\n",
    "* **Mean & Standard Deviation:** The **mean** is the simple arithmetic average of a dataset. It is most useful for data that is evenly distributed. The **standard deviation (std)** complements the mean by measuring the amount of variation or dispersion in a set of values, showing how widely the data points are spread out.\n",
    "\n",
    "* **Extreme Values:** The **minimum (min)** and **maximum (max)** values define the full range of the dataset, indicating the lowest and highest points observed for a given variable.\n",
    "\n",
    "* **Quartiles (25%, 50%, 75%):** Quartiles divide a dataset into four equal parts.\n",
    "    * The **first quartile (Q1)** marks the point below which 25% of the data falls.\n",
    "    * The **second quartile (Q2)**, also known as the **median**, is the middle value of the dataset, with 50% of the data points below it and 50% above.\n",
    "    * The **third quartile (Q3)** is the value below which 75% of the data is located."
   ]
  },
  {
   "cell_type": "code",
   "execution_count": 22,
   "id": "ad9f53c1",
   "metadata": {},
   "outputs": [
    {
     "data": {
      "application/vnd.microsoft.datawrangler.viewer.v0+json": {
       "columns": [
        {
         "name": "index",
         "rawType": "object",
         "type": "string"
        },
        {
         "name": "IMDB_Rating",
         "rawType": "float64",
         "type": "float"
        },
        {
         "name": "Meta_score",
         "rawType": "float64",
         "type": "float"
        },
        {
         "name": "Released_Year",
         "rawType": "float64",
         "type": "float"
        },
        {
         "name": "Runtime",
         "rawType": "float64",
         "type": "float"
        },
        {
         "name": "No_of_Votes",
         "rawType": "float64",
         "type": "float"
        },
        {
         "name": "Gross",
         "rawType": "float64",
         "type": "float"
        }
       ],
       "ref": "7e2c0f9e-6181-43ad-91f9-f6a280f4887e",
       "rows": [
        [
         "count",
         "999.0",
         "842.0",
         "999.0",
         "999.0",
         "999.0",
         "830.0"
        ],
        [
         "mean",
         "7.95",
         "77.97",
         "1991.22",
         "122.87",
         "271621.42",
         "68082574.1"
        ],
        [
         "std",
         "0.27",
         "12.38",
         "23.3",
         "28.1",
         "320912.62",
         "109807553.39"
        ],
        [
         "min",
         "7.6",
         "28.0",
         "1920.0",
         "45.0",
         "25088.0",
         "1305.0"
        ],
        [
         "25%",
         "7.7",
         "70.0",
         "1976.0",
         "103.0",
         "55471.5",
         "3245338.5"
        ],
        [
         "50%",
         "7.9",
         "79.0",
         "1999.0",
         "119.0",
         "138356.0",
         "23457439.5"
        ],
        [
         "75%",
         "8.1",
         "87.0",
         "2009.0",
         "137.0",
         "373167.5",
         "80876340.25"
        ],
        [
         "max",
         "9.2",
         "100.0",
         "2020.0",
         "321.0",
         "2303232.0",
         "936662225.0"
        ]
       ],
       "shape": {
        "columns": 6,
        "rows": 8
       }
      },
      "text/html": [
       "<div>\n",
       "<style scoped>\n",
       "    .dataframe tbody tr th:only-of-type {\n",
       "        vertical-align: middle;\n",
       "    }\n",
       "\n",
       "    .dataframe tbody tr th {\n",
       "        vertical-align: top;\n",
       "    }\n",
       "\n",
       "    .dataframe thead th {\n",
       "        text-align: right;\n",
       "    }\n",
       "</style>\n",
       "<table border=\"1\" class=\"dataframe\">\n",
       "  <thead>\n",
       "    <tr style=\"text-align: right;\">\n",
       "      <th></th>\n",
       "      <th>IMDB_Rating</th>\n",
       "      <th>Meta_score</th>\n",
       "      <th>Released_Year</th>\n",
       "      <th>Runtime</th>\n",
       "      <th>No_of_Votes</th>\n",
       "      <th>Gross</th>\n",
       "    </tr>\n",
       "  </thead>\n",
       "  <tbody>\n",
       "    <tr>\n",
       "      <th>count</th>\n",
       "      <td>999.00</td>\n",
       "      <td>842.00</td>\n",
       "      <td>999.00</td>\n",
       "      <td>999.00</td>\n",
       "      <td>999.00</td>\n",
       "      <td>8.300000e+02</td>\n",
       "    </tr>\n",
       "    <tr>\n",
       "      <th>mean</th>\n",
       "      <td>7.95</td>\n",
       "      <td>77.97</td>\n",
       "      <td>1991.22</td>\n",
       "      <td>122.87</td>\n",
       "      <td>271621.42</td>\n",
       "      <td>6.808257e+07</td>\n",
       "    </tr>\n",
       "    <tr>\n",
       "      <th>std</th>\n",
       "      <td>0.27</td>\n",
       "      <td>12.38</td>\n",
       "      <td>23.30</td>\n",
       "      <td>28.10</td>\n",
       "      <td>320912.62</td>\n",
       "      <td>1.098076e+08</td>\n",
       "    </tr>\n",
       "    <tr>\n",
       "      <th>min</th>\n",
       "      <td>7.60</td>\n",
       "      <td>28.00</td>\n",
       "      <td>1920.00</td>\n",
       "      <td>45.00</td>\n",
       "      <td>25088.00</td>\n",
       "      <td>1.305000e+03</td>\n",
       "    </tr>\n",
       "    <tr>\n",
       "      <th>25%</th>\n",
       "      <td>7.70</td>\n",
       "      <td>70.00</td>\n",
       "      <td>1976.00</td>\n",
       "      <td>103.00</td>\n",
       "      <td>55471.50</td>\n",
       "      <td>3.245338e+06</td>\n",
       "    </tr>\n",
       "    <tr>\n",
       "      <th>50%</th>\n",
       "      <td>7.90</td>\n",
       "      <td>79.00</td>\n",
       "      <td>1999.00</td>\n",
       "      <td>119.00</td>\n",
       "      <td>138356.00</td>\n",
       "      <td>2.345744e+07</td>\n",
       "    </tr>\n",
       "    <tr>\n",
       "      <th>75%</th>\n",
       "      <td>8.10</td>\n",
       "      <td>87.00</td>\n",
       "      <td>2009.00</td>\n",
       "      <td>137.00</td>\n",
       "      <td>373167.50</td>\n",
       "      <td>8.087634e+07</td>\n",
       "    </tr>\n",
       "    <tr>\n",
       "      <th>max</th>\n",
       "      <td>9.20</td>\n",
       "      <td>100.00</td>\n",
       "      <td>2020.00</td>\n",
       "      <td>321.00</td>\n",
       "      <td>2303232.00</td>\n",
       "      <td>9.366622e+08</td>\n",
       "    </tr>\n",
       "  </tbody>\n",
       "</table>\n",
       "</div>"
      ],
      "text/plain": [
       "       IMDB_Rating  Meta_score  Released_Year  Runtime  No_of_Votes  \\\n",
       "count       999.00      842.00         999.00   999.00       999.00   \n",
       "mean          7.95       77.97        1991.22   122.87    271621.42   \n",
       "std           0.27       12.38          23.30    28.10    320912.62   \n",
       "min           7.60       28.00        1920.00    45.00     25088.00   \n",
       "25%           7.70       70.00        1976.00   103.00     55471.50   \n",
       "50%           7.90       79.00        1999.00   119.00    138356.00   \n",
       "75%           8.10       87.00        2009.00   137.00    373167.50   \n",
       "max           9.20      100.00        2020.00   321.00   2303232.00   \n",
       "\n",
       "              Gross  \n",
       "count  8.300000e+02  \n",
       "mean   6.808257e+07  \n",
       "std    1.098076e+08  \n",
       "min    1.305000e+03  \n",
       "25%    3.245338e+06  \n",
       "50%    2.345744e+07  \n",
       "75%    8.087634e+07  \n",
       "max    9.366622e+08  "
      ]
     },
     "execution_count": 22,
     "metadata": {},
     "output_type": "execute_result"
    }
   ],
   "source": [
    "num_variables = ['IMDB_Rating', 'Meta_score', 'Released_Year', 'Runtime', 'No_of_Votes', 'Gross']\n",
    "films[num_variables].describe().round(2)"
   ]
  },
  {
   "cell_type": "markdown",
   "id": "93a46521",
   "metadata": {},
   "source": [
    "This means bla bla bla\n",
    "bla bla"
   ]
  },
  {
   "cell_type": "markdown",
   "id": "0b997b92",
   "metadata": {},
   "source": [
    "#### Categorical Variables Summary"
   ]
  },
  {
   "cell_type": "code",
   "execution_count": 23,
   "id": "cc845661",
   "metadata": {},
   "outputs": [
    {
     "data": {
      "application/vnd.microsoft.datawrangler.viewer.v0+json": {
       "columns": [
        {
         "name": "index",
         "rawType": "object",
         "type": "string"
        },
        {
         "name": "Director",
         "rawType": "object",
         "type": "unknown"
        },
        {
         "name": "Standardized_Rating",
         "rawType": "object",
         "type": "unknown"
        }
       ],
       "ref": "144563cb-2cb9-4337-a80a-c2e936b90282",
       "rows": [
        [
         "count",
         "999",
         "999"
        ],
        [
         "unique",
         "548",
         "3"
        ],
        [
         "top",
         "Alfred Hitchcock",
         "All Ages"
        ],
        [
         "freq",
         "14",
         "396"
        ]
       ],
       "shape": {
        "columns": 2,
        "rows": 4
       }
      },
      "text/html": [
       "<div>\n",
       "<style scoped>\n",
       "    .dataframe tbody tr th:only-of-type {\n",
       "        vertical-align: middle;\n",
       "    }\n",
       "\n",
       "    .dataframe tbody tr th {\n",
       "        vertical-align: top;\n",
       "    }\n",
       "\n",
       "    .dataframe thead th {\n",
       "        text-align: right;\n",
       "    }\n",
       "</style>\n",
       "<table border=\"1\" class=\"dataframe\">\n",
       "  <thead>\n",
       "    <tr style=\"text-align: right;\">\n",
       "      <th></th>\n",
       "      <th>Director</th>\n",
       "      <th>Standardized_Rating</th>\n",
       "    </tr>\n",
       "  </thead>\n",
       "  <tbody>\n",
       "    <tr>\n",
       "      <th>count</th>\n",
       "      <td>999</td>\n",
       "      <td>999</td>\n",
       "    </tr>\n",
       "    <tr>\n",
       "      <th>unique</th>\n",
       "      <td>548</td>\n",
       "      <td>3</td>\n",
       "    </tr>\n",
       "    <tr>\n",
       "      <th>top</th>\n",
       "      <td>Alfred Hitchcock</td>\n",
       "      <td>All Ages</td>\n",
       "    </tr>\n",
       "    <tr>\n",
       "      <th>freq</th>\n",
       "      <td>14</td>\n",
       "      <td>396</td>\n",
       "    </tr>\n",
       "  </tbody>\n",
       "</table>\n",
       "</div>"
      ],
      "text/plain": [
       "                Director Standardized_Rating\n",
       "count                999                 999\n",
       "unique               548                   3\n",
       "top     Alfred Hitchcock            All Ages\n",
       "freq                  14                 396"
      ]
     },
     "execution_count": 23,
     "metadata": {},
     "output_type": "execute_result"
    }
   ],
   "source": [
    "# Distribution of Directors and Standardized_Rating\n",
    "cat_variables = ['Director', 'Standardized_Rating']\n",
    "films[cat_variables].describe().round(2)"
   ]
  },
  {
   "cell_type": "code",
   "execution_count": 24,
   "id": "56dd6270",
   "metadata": {},
   "outputs": [
    {
     "data": {
      "application/vnd.microsoft.datawrangler.viewer.v0+json": {
       "columns": [
        {
         "name": "index",
         "rawType": "object",
         "type": "string"
        },
        {
         "name": "Genre",
         "rawType": "object",
         "type": "unknown"
        },
        {
         "name": "Star",
         "rawType": "object",
         "type": "unknown"
        }
       ],
       "ref": "1699d7d5-ca45-4526-b6f3-0e47e2e19a4b",
       "rows": [
        [
         "count",
         "2540",
         "3996"
        ],
        [
         "unique",
         "21",
         "2707"
        ],
        [
         "top",
         "Drama",
         "Robert De Niro"
        ],
        [
         "freq",
         "723",
         "17"
        ]
       ],
       "shape": {
        "columns": 2,
        "rows": 4
       }
      },
      "text/html": [
       "<div>\n",
       "<style scoped>\n",
       "    .dataframe tbody tr th:only-of-type {\n",
       "        vertical-align: middle;\n",
       "    }\n",
       "\n",
       "    .dataframe tbody tr th {\n",
       "        vertical-align: top;\n",
       "    }\n",
       "\n",
       "    .dataframe thead th {\n",
       "        text-align: right;\n",
       "    }\n",
       "</style>\n",
       "<table border=\"1\" class=\"dataframe\">\n",
       "  <thead>\n",
       "    <tr style=\"text-align: right;\">\n",
       "      <th></th>\n",
       "      <th>Genre</th>\n",
       "      <th>Star</th>\n",
       "    </tr>\n",
       "  </thead>\n",
       "  <tbody>\n",
       "    <tr>\n",
       "      <th>count</th>\n",
       "      <td>2540</td>\n",
       "      <td>3996</td>\n",
       "    </tr>\n",
       "    <tr>\n",
       "      <th>unique</th>\n",
       "      <td>21</td>\n",
       "      <td>2707</td>\n",
       "    </tr>\n",
       "    <tr>\n",
       "      <th>top</th>\n",
       "      <td>Drama</td>\n",
       "      <td>Robert De Niro</td>\n",
       "    </tr>\n",
       "    <tr>\n",
       "      <th>freq</th>\n",
       "      <td>723</td>\n",
       "      <td>17</td>\n",
       "    </tr>\n",
       "  </tbody>\n",
       "</table>\n",
       "</div>"
      ],
      "text/plain": [
       "        Genre            Star\n",
       "count    2540            3996\n",
       "unique     21            2707\n",
       "top     Drama  Robert De Niro\n",
       "freq      723              17"
      ]
     },
     "execution_count": 24,
     "metadata": {},
     "output_type": "execute_result"
    }
   ],
   "source": [
    "# Distribution of Genres and Stars: creating a combined DataFrame for better visualization \n",
    "genre_series = films[['Genre1', 'Genre2', 'Genre3']].stack()\n",
    "star_series = films[['Star1', 'Star2', 'Star3', 'Star4']].stack()\n",
    "combined_df = pd.DataFrame({\n",
    "    'Genre': genre_series,\n",
    "    'Star': star_series\n",
    "})\n",
    "combined_df.describe().round(2)"
   ]
  },
  {
   "cell_type": "code",
   "execution_count": 25,
   "id": "cc4cd285",
   "metadata": {},
   "outputs": [
    {
     "name": "stdout",
     "output_type": "stream",
     "text": [
      "Director Director\n",
      "Alfred Hitchcock    14\n",
      "Steven Spielberg    13\n",
      "Hayao Miyazaki      11\n",
      "Martin Scorsese     10\n",
      "Akira Kurosawa      10\n",
      "Billy Wilder         9\n",
      "Stanley Kubrick      9\n",
      "Woody Allen          9\n",
      "Clint Eastwood       8\n",
      "David Fincher        8\n",
      "Name: count, dtype: int64 \n",
      "\n",
      "Star: \n",
      " Robert De Niro       17\n",
      "Tom Hanks            14\n",
      "Al Pacino            13\n",
      "Brad Pitt            12\n",
      "Clint Eastwood       12\n",
      "Christian Bale       11\n",
      "Matt Damon           11\n",
      "Leonardo DiCaprio    11\n",
      "James Stewart        10\n",
      "Ethan Hawke           9\n",
      "Name: count, dtype: int64 \n",
      "\n",
      "Genre: \n",
      " Drama        723\n",
      "Comedy       233\n",
      "Crime        209\n",
      "Adventure    196\n",
      "Action       189\n",
      "Thriller     137\n",
      "Romance      125\n",
      "Biography    109\n",
      "Mystery       99\n",
      "Animation     82\n",
      "Name: count, dtype: int64\n"
     ]
    }
   ],
   "source": [
    "# Snippet to show the top 10 most frequent Directors, Stars and Genres\n",
    "print(\"Director\", films[\"Director\"].value_counts().head(10),\"\\n\")\n",
    "print(\"Star:\",\"\\n\",star_series.value_counts().head(10),\"\\n\")\n",
    "print(\"Genre:\",\"\\n\",genre_series.value_counts().head(10))"
   ]
  },
  {
   "cell_type": "markdown",
   "id": "2720ce1d",
   "metadata": {},
   "source": [
    "### 2.5 Exploratory Data Analysis (EDA)\n"
   ]
  },
  {
   "cell_type": "markdown",
   "id": "1eb60efc",
   "metadata": {},
   "source": [
    "Our EDA will be a deep dive into the dataset's characteristics, providing a visual and statistical foundation for our insights. Through this in-depth exploration, we will:\n",
    "\n",
    "* Generate visualizations like **histograms** and **boxplots** to understand the distribution of key numerical variables, such as `IMDB_Rating`, `Meta_score` and `Gross`, helping us identify central tendencies and outliers.\n",
    "* Perform a **correlation analysis** to uncover relationships between variables that are tied to a film's financial and critical success. We will also use **bar charts** to visually explore the distribution and trends within categorical variables like \"Genre\" (`Genre1`, `Genre2`, `Genre3`) and `Certificate`.\n",
    "\n",
    "This comprehensive exploration will allow us to validate our hypotheses, address core business questions, and inform the subsequent stages of the project, including our text analysis of the `Overview` column and our predictive modeling efforts."
   ]
  },
  {
   "cell_type": "markdown",
   "id": "b0e35b3b",
   "metadata": {},
   "source": [
    "## 3 - Data preparation"
   ]
  },
  {
   "cell_type": "markdown",
   "id": "6cd3ee6c",
   "metadata": {},
   "source": [
    "Transformar variaveis categoricas em poucas categorias e numericas realizar a transformacao (log etc) conforme necessario"
   ]
  },
  {
   "cell_type": "markdown",
   "id": "40d8c06b",
   "metadata": {},
   "source": [
    "- No we have to do something about the missing values. \"Runtime\" is a numerical variable, we can fill missing values with the right central tendency measure. To dec"
   ]
  },
  {
   "cell_type": "code",
   "execution_count": 26,
   "id": "46561852",
   "metadata": {},
   "outputs": [],
   "source": [
    "#films['Runtime'] = films['Runtime'].fillna(films['Runtime'].mean()) "
   ]
  }
 ],
 "metadata": {
  "kernelspec": {
   "display_name": "Python 3",
   "language": "python",
   "name": "python3"
  },
  "language_info": {
   "codemirror_mode": {
    "name": "ipython",
    "version": 3
   },
   "file_extension": ".py",
   "mimetype": "text/x-python",
   "name": "python",
   "nbconvert_exporter": "python",
   "pygments_lexer": "ipython3",
   "version": "3.13.1"
  }
 },
 "nbformat": 4,
 "nbformat_minor": 5
}
